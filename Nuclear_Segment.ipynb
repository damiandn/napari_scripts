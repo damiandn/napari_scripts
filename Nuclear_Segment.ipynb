{
 "cells": [
  {
   "cell_type": "code",
   "execution_count": 6,
   "id": "571d2234",
   "metadata": {},
   "outputs": [],
   "source": [
    "import os\n",
    "import pyclesperanto_prototype as cle\n",
    "import napari\n",
    "from magicgui import magicgui\n",
    "import numpy as np"
   ]
  },
  {
   "cell_type": "code",
   "execution_count": 7,
   "id": "f4008aeb",
   "metadata": {},
   "outputs": [
    {
     "name": "stderr",
     "output_type": "stream",
     "text": [
      "WARNING: QWindowsWindow::setGeometry: Unable to set geometry 1090x687-10+36 (frame: 1108x734-19-2) on QWidgetWindow/\"_QtMainWindowClassWindow\" on \"\\\\.\\DISPLAY1\". Resulting geometry: 1020x921-12+29 (frame: 1038x968-21-9) margins: 9, 38, 9, 9 minimum size: 612x594 MINMAXINFO maxSize=0,0 maxpos=0,0 mintrack=630,641 maxtrack=0,0)\n"
     ]
    },
    {
     "data": {
      "text/plain": [
       "<napari._qt.widgets.qt_viewer_dock_widget.QtViewerDockWidget at 0x277b08fa710>"
      ]
     },
     "execution_count": 7,
     "metadata": {},
     "output_type": "execute_result"
    }
   ],
   "source": [
    "viewer = napari.Viewer()\n",
    "file_list = os.listdir('nuc_images')\n",
    "\n",
    "@magicgui(file_to_load={\"choices\": file_list}, call_button='Load')\n",
    "def load_widget(file_to_load: str, viewer=viewer):\n",
    "    viewer.layers.select_all()\n",
    "    viewer.layers.remove_selected()\n",
    "    nuc = np.load(os.path.join('nuc_images', file_to_load))['arr_0']\n",
    "    viewer.add_image(nuc, name='nuc_im')\n",
    "viewer.window.add_dock_widget(load_widget)\n",
    "\n",
    "@magicgui(call_button='Segment')\n",
    "def segment(spot_sigma: int = 3, outline_sigma: int = 1, viewer=viewer):\n",
    "    im = viewer.layers['nuc_im'].data\n",
    "    segmented = cle.voronoi_otsu_labeling(im, spot_sigma=3, outline_sigma=1)\n",
    "    viewer.add_labels(segmented)\n",
    "viewer.window.add_dock_widget(segment)\n"
   ]
  }
 ],
 "metadata": {
  "kernelspec": {
   "display_name": "Python 3 (ipykernel)",
   "language": "python",
   "name": "python3"
  },
  "language_info": {
   "codemirror_mode": {
    "name": "ipython",
    "version": 3
   },
   "file_extension": ".py",
   "mimetype": "text/x-python",
   "name": "python",
   "nbconvert_exporter": "python",
   "pygments_lexer": "ipython3",
   "version": "3.10.2"
  }
 },
 "nbformat": 4,
 "nbformat_minor": 5
}
